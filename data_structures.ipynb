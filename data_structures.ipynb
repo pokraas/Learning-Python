{
 "cells": [
  {
   "cell_type": "markdown",
   "id": "f1c12e1b",
   "metadata": {},
   "source": [
    "# Basic data structures in Python\n",
    "This notebook describes the most basic data structures of Python, namely:\n",
    "- Lists\n",
    "- Tuples\n",
    "- Sets\n",
    "- Dictionaries  \n",
    "  \n",
    "It is based on this [Python tutorial](https://gitlab.erc.monash.edu.au/andrease/Python4Maths/-/tree/master/Intro-to-Python)."
   ]
  },
  {
   "cell_type": "markdown",
   "id": "ef9bbbdf",
   "metadata": {},
   "source": [
    "### Lists"
   ]
  },
  {
   "cell_type": "markdown",
   "id": "869ad962",
   "metadata": {},
   "source": [
    "#### Basics\n",
    "Indexing with negative numbers to get last elements:"
   ]
  },
  {
   "cell_type": "code",
   "execution_count": 1,
   "id": "f5fc1334",
   "metadata": {},
   "outputs": [
    {
     "name": "stdout",
     "output_type": "stream",
     "text": [
      "1 9\n"
     ]
    }
   ],
   "source": [
    "l = [0,1,2,3,4,5,6,7,8,9]\n",
    "print(l[1], l[-1])"
   ]
  },
  {
   "cell_type": "markdown",
   "id": "619ad56c",
   "metadata": {},
   "source": [
    "Elements of a list can be of different types:"
   ]
  },
  {
   "cell_type": "code",
   "execution_count": 2,
   "id": "f8512911",
   "metadata": {},
   "outputs": [
    {
     "data": {
      "text/plain": [
       "['this is a valid list', 2, 3.6, (1+2j), ['a', 'sublist']]"
      ]
     },
     "execution_count": 2,
     "metadata": {},
     "output_type": "execute_result"
    }
   ],
   "source": [
    "[\"this is a valid list\",2,3.6,(1+2j),[\"a\",\"sublist\"]]"
   ]
  },
  {
   "cell_type": "markdown",
   "id": "e2e7385d",
   "metadata": {},
   "source": [
    "Slicing: getting a sublist of a list"
   ]
  },
  {
   "cell_type": "code",
   "execution_count": 3,
   "id": "95fc348a",
   "metadata": {},
   "outputs": [
    {
     "name": "stdout",
     "output_type": "stream",
     "text": [
      "[2, 3, 4]\n",
      "[2, 5, 8]\n"
     ]
    }
   ],
   "source": [
    "print (l[2:5])\n",
    "print (l[2:9:3]) # with step 3"
   ]
  },
  {
   "cell_type": "markdown",
   "id": "744e4500",
   "metadata": {},
   "source": [
    "The `a in b` concept: check if a given element is in the list"
   ]
  },
  {
   "cell_type": "code",
   "execution_count": 4,
   "id": "54b729eb",
   "metadata": {},
   "outputs": [
    {
     "name": "stdout",
     "output_type": "stream",
     "text": [
      "True False\n"
     ]
    }
   ],
   "source": [
    "print (1 in l, 10 in l)"
   ]
  },
  {
   "cell_type": "markdown",
   "id": "3fe3983c",
   "metadata": {},
   "source": [
    "Mapping values of a list to variables:"
   ]
  },
  {
   "cell_type": "code",
   "execution_count": 47,
   "id": "d6dc5014",
   "metadata": {},
   "outputs": [
    {
     "name": "stdout",
     "output_type": "stream",
     "text": [
      "145\n",
      "a\n",
      "[0, 1, 2]\n"
     ]
    }
   ],
   "source": [
    "m = [145, 'a', [0,1,2]]\n",
    "a,b,c = m # there must be exactly as many variables as the length of the list, otherwise an error will occur\n",
    "print(a)\n",
    "print(b)\n",
    "print(c)"
   ]
  },
  {
   "cell_type": "markdown",
   "id": "98ae191a",
   "metadata": {},
   "source": [
    "List concatenation with `+` operator doesn't produce a nested list:"
   ]
  },
  {
   "cell_type": "code",
   "execution_count": 40,
   "id": "29d92525",
   "metadata": {},
   "outputs": [
    {
     "data": {
      "text/plain": [
       "[0, 1, 2, 'a', 'ab', 6]"
      ]
     },
     "execution_count": 40,
     "metadata": {},
     "output_type": "execute_result"
    }
   ],
   "source": [
    "[0,1,2] + ['a', 'ab'] + [] + [6]"
   ]
  },
  {
   "cell_type": "markdown",
   "id": "3667a2ca",
   "metadata": {},
   "source": [
    "Concatenation of a list with itself `n` times with the `*` operator:"
   ]
  },
  {
   "cell_type": "code",
   "execution_count": 33,
   "id": "2eb62951",
   "metadata": {},
   "outputs": [
    {
     "data": {
      "text/plain": [
       "['a', 'b', 'c', 'a', 'b', 'c', 'a', 'b', 'c']"
      ]
     },
     "execution_count": 33,
     "metadata": {},
     "output_type": "execute_result"
    }
   ],
   "source": [
    "n = 3\n",
    "['a','b','c'] * n"
   ]
  },
  {
   "cell_type": "markdown",
   "id": "ae422990",
   "metadata": {},
   "source": [
    "#### Some built-in functions\n"
   ]
  },
  {
   "cell_type": "code",
   "execution_count": 6,
   "id": "64181795",
   "metadata": {},
   "outputs": [
    {
     "data": {
      "text/plain": [
       "10"
      ]
     },
     "execution_count": 6,
     "metadata": {},
     "output_type": "execute_result"
    }
   ],
   "source": [
    "len(l)"
   ]
  },
  {
   "cell_type": "code",
   "execution_count": 7,
   "id": "d1d3ed45",
   "metadata": {},
   "outputs": [
    {
     "name": "stdout",
     "output_type": "stream",
     "text": [
      "9 0 45\n"
     ]
    }
   ],
   "source": [
    "print(max(l), min(l), sum(l))"
   ]
  },
  {
   "cell_type": "markdown",
   "id": "3b47389b",
   "metadata": {},
   "source": [
    "Append an element to the end of a list:"
   ]
  },
  {
   "cell_type": "code",
   "execution_count": 9,
   "id": "8ff6f048",
   "metadata": {},
   "outputs": [
    {
     "name": "stdout",
     "output_type": "stream",
     "text": [
      "[0, 1, 2, 3, 4, 5, 6, 7, 8, 9, 10]\n",
      "[0, 1, 2, 3, 4, 5, 6, 7, 8, 9, 10, [11, 12, 13]]\n"
     ]
    }
   ],
   "source": [
    "l = [0,1,2,3,4,5,6,7,8,9]\n",
    "l.append(10)\n",
    "print(l)\n",
    "l.append([11,12,13]) # will create a nested list, as opposed to the + operator\n",
    "print(l)"
   ]
  },
  {
   "cell_type": "markdown",
   "id": "8651b2d2",
   "metadata": {},
   "source": [
    "Insert and retrieve an element at a specified index:"
   ]
  },
  {
   "cell_type": "code",
   "execution_count": 12,
   "id": "3fafb2cc",
   "metadata": {},
   "outputs": [
    {
     "name": "stdout",
     "output_type": "stream",
     "text": [
      "[0, 1, 2, 3, 4, 4.12, 5, 6, 7, 8, 9]\n",
      "4.12\n"
     ]
    }
   ],
   "source": [
    "l = [0,1,2,3,4,5,6,7,8,9]\n",
    "index = 5\n",
    "element = 4.12\n",
    "l.insert(index, element)\n",
    "print(l)\n",
    "print(l[index])"
   ]
  },
  {
   "cell_type": "markdown",
   "id": "db837d2e",
   "metadata": {},
   "source": [
    "Number of times an element has occurred in a list:"
   ]
  },
  {
   "cell_type": "code",
   "execution_count": 15,
   "id": "b7a0e6d5",
   "metadata": {},
   "outputs": [
    {
     "data": {
      "text/plain": [
       "3"
      ]
     },
     "execution_count": 15,
     "metadata": {},
     "output_type": "execute_result"
    }
   ],
   "source": [
    "element = 2\n",
    "[1,2,4,2,2,1,2].count(element)"
   ]
  },
  {
   "cell_type": "markdown",
   "id": "8e3ed730",
   "metadata": {},
   "source": [
    "Find the first occurrence of an element:"
   ]
  },
  {
   "cell_type": "code",
   "execution_count": 17,
   "id": "5e4001f0",
   "metadata": {},
   "outputs": [
    {
     "data": {
      "text/plain": [
       "1"
      ]
     },
     "execution_count": 17,
     "metadata": {},
     "output_type": "execute_result"
    }
   ],
   "source": [
    "element = 2\n",
    "[1,2,4,2,2,1,2].index(element)"
   ]
  },
  {
   "cell_type": "markdown",
   "id": "45f73d62",
   "metadata": {},
   "source": [
    "#### Copying a list\n",
    "Shallow copy:"
   ]
  },
  {
   "cell_type": "code",
   "execution_count": 23,
   "id": "013bb16b",
   "metadata": {},
   "outputs": [
    {
     "data": {
      "text/plain": [
       "[0, 1, 2, 3, 4, 5, 6, 7, 8, 9]"
      ]
     },
     "execution_count": 23,
     "metadata": {},
     "output_type": "execute_result"
    }
   ],
   "source": [
    "m = l[:]\n",
    "m = list(l)"
   ]
  },
  {
   "cell_type": "markdown",
   "id": "4bcb27d0",
   "metadata": {},
   "source": [
    "Deep copy:"
   ]
  },
  {
   "cell_type": "code",
   "execution_count": 25,
   "id": "c09bcf7f",
   "metadata": {},
   "outputs": [],
   "source": [
    "import copy\n",
    "m = copy.deepcopy(l)"
   ]
  },
  {
   "cell_type": "markdown",
   "id": "5aeebb73",
   "metadata": {},
   "source": [
    "#### List comprehension: shorthand for generating elements of a list in a loop\n",
    "Example: generate a list like a function on natural numbers."
   ]
  },
  {
   "cell_type": "code",
   "execution_count": 35,
   "id": "6f4ec844",
   "metadata": {},
   "outputs": [
    {
     "name": "stdout",
     "output_type": "stream",
     "text": [
      "[0, 1, 4, 9, 16] [0, 1, 4, 9, 16]\n"
     ]
    }
   ],
   "source": [
    "# Generate a function y = x ** 2 for natural x's\n",
    "l1 = [i ** 2 for i in [0,1,2,3,4]]\n",
    "# Using a range of int values:\n",
    "l2 = [i ** 2 for i in range(5)] # i = 0..4\n",
    "print (l1, l2)"
   ]
  },
  {
   "cell_type": "code",
   "execution_count": 36,
   "id": "fef6de72",
   "metadata": {},
   "outputs": [
    {
     "data": {
      "text/plain": [
       "[0, 1, 1, 2, 4, 5, 9, 10, 16, 17]"
      ]
     },
     "execution_count": 36,
     "metadata": {},
     "output_type": "execute_result"
    }
   ],
   "source": [
    "# A function of several variables:\n",
    "[i ** 2 + j for i in range(5) for j in range(2)]"
   ]
  },
  {
   "cell_type": "markdown",
   "id": "32f32e99",
   "metadata": {},
   "source": [
    "### Tuples: basically immutable lists"
   ]
  },
  {
   "cell_type": "code",
   "execution_count": 52,
   "id": "3b21ddd5",
   "metadata": {},
   "outputs": [
    {
     "name": "stdout",
     "output_type": "stream",
     "text": [
      "(0, 1, 2)\n"
     ]
    }
   ],
   "source": [
    "t = (0,1,2)\n",
    "print(t)\n",
    "\n",
    "l = [0,1,2]\n",
    "t = tuple(l)\n",
    "print(t)\n",
    "# t[0] = 3 # will produce an error"
   ]
  },
  {
   "cell_type": "markdown",
   "id": "b983314f",
   "metadata": {},
   "source": [
    "### Sets: lists without repeated elements"
   ]
  },
  {
   "cell_type": "markdown",
   "id": "a9c65819",
   "metadata": {},
   "source": [
    "#### Basics"
   ]
  },
  {
   "cell_type": "code",
   "execution_count": 55,
   "id": "a8b2600e",
   "metadata": {},
   "outputs": [
    {
     "name": "stdout",
     "output_type": "stream",
     "text": [
      "{0, 1}\n"
     ]
    }
   ],
   "source": [
    "s = set()\n",
    "s.add(1)\n",
    "s.add(0)\n",
    "s.add(1)\n",
    "print(s)"
   ]
  },
  {
   "cell_type": "code",
   "execution_count": 66,
   "id": "0f05c95a",
   "metadata": {},
   "outputs": [
    {
     "name": "stdout",
     "output_type": "stream",
     "text": [
      "{0, 1, 2}\n"
     ]
    }
   ],
   "source": [
    "# s = set(0,1,1,1,2) # not allowed\n",
    "s = set([0,1,1,1,2])\n",
    "print(s)"
   ]
  },
  {
   "cell_type": "markdown",
   "id": "df157f6e",
   "metadata": {},
   "source": [
    "Be advised that `{0, 1, 2}` is a set, but `{}` is __not__ actually a set, but a dictionary!"
   ]
  },
  {
   "cell_type": "code",
   "execution_count": 62,
   "id": "ceaac3c0",
   "metadata": {},
   "outputs": [
    {
     "data": {
      "text/plain": [
       "set"
      ]
     },
     "execution_count": 62,
     "metadata": {},
     "output_type": "execute_result"
    }
   ],
   "source": [
    "type({0,1,2})"
   ]
  },
  {
   "cell_type": "code",
   "execution_count": 63,
   "id": "287976de",
   "metadata": {},
   "outputs": [
    {
     "data": {
      "text/plain": [
       "dict"
      ]
     },
     "execution_count": 63,
     "metadata": {},
     "output_type": "execute_result"
    }
   ],
   "source": [
    "type({})"
   ]
  },
  {
   "cell_type": "markdown",
   "id": "939bcac1",
   "metadata": {},
   "source": [
    "#### Set operations"
   ]
  },
  {
   "cell_type": "code",
   "execution_count": 68,
   "id": "2cf1c438",
   "metadata": {},
   "outputs": [],
   "source": [
    "A = set([0,1,2,3])\n",
    "B = set([2,3,4,5])"
   ]
  },
  {
   "cell_type": "markdown",
   "id": "ba245bbc",
   "metadata": {},
   "source": [
    "$ A \\cup B: $"
   ]
  },
  {
   "cell_type": "code",
   "execution_count": 69,
   "id": "af6ace97",
   "metadata": {},
   "outputs": [
    {
     "data": {
      "text/plain": [
       "{0, 1, 2, 3, 4, 5}"
      ]
     },
     "execution_count": 69,
     "metadata": {},
     "output_type": "execute_result"
    }
   ],
   "source": [
    "A.union(B)"
   ]
  },
  {
   "cell_type": "markdown",
   "id": "a432e778",
   "metadata": {},
   "source": [
    "$ A \\cap B: $"
   ]
  },
  {
   "cell_type": "code",
   "execution_count": 71,
   "id": "9b3831e0",
   "metadata": {},
   "outputs": [
    {
     "data": {
      "text/plain": [
       "{2, 3}"
      ]
     },
     "execution_count": 71,
     "metadata": {},
     "output_type": "execute_result"
    }
   ],
   "source": [
    "A.intersection(B)"
   ]
  },
  {
   "cell_type": "markdown",
   "id": "ca029311",
   "metadata": {},
   "source": [
    "$ A \\setminus B $"
   ]
  },
  {
   "cell_type": "code",
   "execution_count": 72,
   "id": "4e6de3db",
   "metadata": {},
   "outputs": [
    {
     "data": {
      "text/plain": [
       "{0, 1}"
      ]
     },
     "execution_count": 72,
     "metadata": {},
     "output_type": "execute_result"
    }
   ],
   "source": [
    "A.difference(B)"
   ]
  },
  {
   "cell_type": "markdown",
   "id": "c4a05ca8",
   "metadata": {},
   "source": [
    "Symmetric difference: $ A \\ominus B = (A \\setminus B) \\cup (B \\setminus A)$"
   ]
  },
  {
   "cell_type": "code",
   "execution_count": 73,
   "id": "80b29944",
   "metadata": {},
   "outputs": [
    {
     "data": {
      "text/plain": [
       "{0, 1, 4, 5}"
      ]
     },
     "execution_count": 73,
     "metadata": {},
     "output_type": "execute_result"
    }
   ],
   "source": [
    "A.symmetric_difference(B)"
   ]
  },
  {
   "cell_type": "markdown",
   "id": "465720e6",
   "metadata": {},
   "source": [
    "### Dictionaries\n",
    "Dictionaries are like maps in Java. They store `{key : value}` pairs.\\\n",
    "\\\n",
    "The key must be immutable (for example, tuples can be keys but lists cannot). However, arbitrary objects can be used as keys, but in this case their _reference address_, not the object itself, is a key.\\\n",
    "\\\n",
    "The ordering of pairs inside of a list can be arbitrary - like in Java's `HashMap`."
   ]
  },
  {
   "cell_type": "code",
   "execution_count": 104,
   "id": "c394acd2",
   "metadata": {},
   "outputs": [
    {
     "name": "stdout",
     "output_type": "stream",
     "text": [
      "{'key': 'value', 1: 'a', 2: 'b'}\n",
      "value\n",
      "a\n"
     ]
    }
   ],
   "source": [
    "d = dict()\n",
    "d['key'] = 'value'\n",
    "d[1] = 'a'\n",
    "d[2] = 'b'\n",
    "print(d)\n",
    "print(d['key'])\n",
    "print(d[1])"
   ]
  },
  {
   "cell_type": "markdown",
   "id": "6c001296",
   "metadata": {},
   "source": [
    "#### Initialize a dictionary from a list of keys and a list of values using the `zip()` function:"
   ]
  },
  {
   "cell_type": "code",
   "execution_count": 112,
   "id": "852894ab",
   "metadata": {},
   "outputs": [
    {
     "name": "stdout",
     "output_type": "stream",
     "text": [
      "{1: 'a', 2: 'b', 3: 'c', 4: 'd', 5: 'e', 6: 'f', 7: 'g'}\n",
      "dict_keys([1, 2, 3, 4, 5, 6, 7])\n",
      "dict_values(['a', 'b', 'c', 'd', 'e', 'f', 'g'])\n"
     ]
    }
   ],
   "source": [
    "alphabet = list('abcdefg') # values\n",
    "numbers = list(range(1,28)) # keys\n",
    "d = dict((numbers, alphabet) for numbers, alphabet in zip(numbers, alphabet))\n",
    "print(d)\n",
    "print(d.keys()) # is an iterable\n",
    "print(d.values()) # is an iterable\n",
    "# Note that there are more keys than values in this example.\n",
    "# print(d[10]) # Thus, this will produce a KeyError."
   ]
  },
  {
   "cell_type": "markdown",
   "id": "72088619",
   "metadata": {},
   "source": [
    "#### Comprehension: shorthand for generating key-value pairs in a loop\n",
    "Example: map strings to their respective lengths"
   ]
  },
  {
   "cell_type": "code",
   "execution_count": 115,
   "id": "725244bf",
   "metadata": {},
   "outputs": [
    {
     "name": "stdout",
     "output_type": "stream",
     "text": [
      "{'One': 3, 'Two': 3, 'Three': 5, 'Five': 4, 'Six': 3}\n"
     ]
    }
   ],
   "source": [
    "words = ['One', 'Two', 'Three', 'Four', 'Five', 'Six']\n",
    "d = {word : len(word) for word in words if word != 'Four'}\n",
    "print(d)"
   ]
  }
 ],
 "metadata": {
  "kernelspec": {
   "display_name": "Python 3",
   "language": "python",
   "name": "python3"
  },
  "language_info": {
   "codemirror_mode": {
    "name": "ipython",
    "version": 3
   },
   "file_extension": ".py",
   "mimetype": "text/x-python",
   "name": "python",
   "nbconvert_exporter": "python",
   "pygments_lexer": "ipython3",
   "version": "3.9.5"
  }
 },
 "nbformat": 4,
 "nbformat_minor": 5
}
