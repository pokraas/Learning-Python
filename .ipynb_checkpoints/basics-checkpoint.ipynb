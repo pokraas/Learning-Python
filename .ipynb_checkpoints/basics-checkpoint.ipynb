{
 "cells": [
  {
   "cell_type": "markdown",
   "id": "109d27a2",
   "metadata": {},
   "source": [
    "# Basics of Python\n",
    "This notebook contains some basic functionality of Python that doesn't seem trivial to me after programming in Java.\\\n",
    "It is based on this [Python tutorial](https://gitlab.erc.monash.edu.au/andrease/Python4Maths/-/tree/master/Intro-to-Python)."
   ]
  },
  {
   "cell_type": "markdown",
   "id": "1757e802",
   "metadata": {},
   "source": [
    "### Division\n",
    "`int / int = float`, not `int`. `//` is `div` AKA float division, `%` is `mod`."
   ]
  },
  {
   "cell_type": "code",
   "execution_count": 1,
   "id": "250b7909",
   "metadata": {},
   "outputs": [
    {
     "name": "stdout",
     "output_type": "stream",
     "text": [
      "1.5 1.5 1.0 5\n"
     ]
    }
   ],
   "source": [
    "print(15 / 10, 15 / 10.0, 15.0 // 10.0, 15 % 10)"
   ]
  },
  {
   "cell_type": "markdown",
   "id": "0bfba4fe",
   "metadata": {},
   "source": [
    "### Number system conversions\n",
    "Conversion dec -> hex, oct, bin:"
   ]
  },
  {
   "cell_type": "code",
   "execution_count": 2,
   "id": "4a9b9500",
   "metadata": {},
   "outputs": [
    {
     "name": "stdout",
     "output_type": "stream",
     "text": [
      "0x91 0o221 0b10010001\n"
     ]
    }
   ],
   "source": [
    "print(hex(145), oct(145), bin(145))"
   ]
  },
  {
   "cell_type": "markdown",
   "id": "a6f7f657",
   "metadata": {},
   "source": [
    "Conversion any base -> dec, string -> dec.\n",
    "The number to convert must be a string!"
   ]
  },
  {
   "cell_type": "code",
   "execution_count": 3,
   "id": "d874c791",
   "metadata": {},
   "outputs": [
    {
     "name": "stdout",
     "output_type": "stream",
     "text": [
      "6\n"
     ]
    }
   ],
   "source": [
    "number_to_convert_as_string = '11' # also works with hex, oct, bin numbers\n",
    "base = 5\n",
    "print(int(number_to_convert_as_string, base))"
   ]
  },
  {
   "cell_type": "markdown",
   "id": "9a2d6eb2",
   "metadata": {},
   "source": [
    "### Char conversion"
   ]
  },
  {
   "cell_type": "code",
   "execution_count": 4,
   "id": "d497ed64",
   "metadata": {},
   "outputs": [
    {
     "name": "stdout",
     "output_type": "stream",
     "text": [
      "b\n",
      "98\n"
     ]
    }
   ],
   "source": [
    "int_to_char = 98\n",
    "print(chr(int_to_char))\n",
    "char_to_int = 'b'\n",
    "print(ord(char_to_int))"
   ]
  },
  {
   "cell_type": "markdown",
   "id": "4f8baf82",
   "metadata": {},
   "source": [
    "### Range of int values as a list can be used for for-in loops\n",
    "(In-depth discussion of lists in [data_structures.ipynb](./data_structures.ipynb))"
   ]
  },
  {
   "cell_type": "code",
   "execution_count": 5,
   "id": "4f215961",
   "metadata": {},
   "outputs": [
    {
     "name": "stdout",
     "output_type": "stream",
     "text": [
      "3 4 5 6 7 8 9 10 11 12 13 \n",
      "3 8 13 "
     ]
    }
   ],
   "source": [
    "lo = 3\n",
    "hi = 14\n",
    "step = 5\n",
    "for i in range(lo, hi):\n",
    "    print(i, end=' ') # ' ' specified as a delimiter, otherwise a newline would be printed after each number\n",
    "print()\n",
    "for i in range(lo, hi, step):\n",
    "    print(i, end=' ')"
   ]
  },
  {
   "cell_type": "markdown",
   "id": "00d22cb2",
   "metadata": {},
   "source": [
    "### Accepting user input\n",
    "Accepting a string:"
   ]
  },
  {
   "cell_type": "code",
   "execution_count": 6,
   "id": "cef39c61",
   "metadata": {},
   "outputs": [
    {
     "name": "stdout",
     "output_type": "stream",
     "text": [
      "Type something here \tqwerty\n",
      "Your input was:  qwerty\n"
     ]
    }
   ],
   "source": [
    "input_as_string = input('Type something here \\t')\n",
    "print('Your input was: ', input_as_string)"
   ]
  },
  {
   "cell_type": "markdown",
   "id": "f3f227d6",
   "metadata": {},
   "source": [
    "Unsafely accepting a number (produces a ValueError if the input can't be converted to float):"
   ]
  },
  {
   "cell_type": "code",
   "execution_count": 7,
   "id": "637edc45",
   "metadata": {},
   "outputs": [
    {
     "name": "stdout",
     "output_type": "stream",
     "text": [
      "Type your number here \tqwerty\n"
     ]
    },
    {
     "ename": "ValueError",
     "evalue": "could not convert string to float: 'qwerty'",
     "output_type": "error",
     "traceback": [
      "\u001b[0;31m---------------------------------------------------------------------------\u001b[0m",
      "\u001b[0;31mValueError\u001b[0m                                Traceback (most recent call last)",
      "\u001b[0;32m<ipython-input-7-2c7d4d462786>\u001b[0m in \u001b[0;36m<module>\u001b[0;34m\u001b[0m\n\u001b[0;32m----> 1\u001b[0;31m \u001b[0minput_as_float\u001b[0m \u001b[0;34m=\u001b[0m \u001b[0mfloat\u001b[0m\u001b[0;34m(\u001b[0m\u001b[0minput\u001b[0m\u001b[0;34m(\u001b[0m\u001b[0;34m'Type your number here \\t'\u001b[0m\u001b[0;34m)\u001b[0m\u001b[0;34m)\u001b[0m\u001b[0;34m\u001b[0m\u001b[0;34m\u001b[0m\u001b[0m\n\u001b[0m\u001b[1;32m      2\u001b[0m \u001b[0mprint\u001b[0m\u001b[0;34m(\u001b[0m\u001b[0;34m'Your input was: '\u001b[0m\u001b[0;34m,\u001b[0m \u001b[0minput_as_float\u001b[0m\u001b[0;34m)\u001b[0m\u001b[0;34m\u001b[0m\u001b[0;34m\u001b[0m\u001b[0m\n",
      "\u001b[0;31mValueError\u001b[0m: could not convert string to float: 'qwerty'"
     ]
    }
   ],
   "source": [
    "input_as_float = float(input('Type your number here \\t'))\n",
    "print('Your input was: ', input_as_float)"
   ]
  },
  {
   "cell_type": "markdown",
   "id": "9d79979f",
   "metadata": {},
   "source": [
    "Safely accepting a number with exception handling:"
   ]
  },
  {
   "cell_type": "code",
   "execution_count": 8,
   "id": "958221a6",
   "metadata": {},
   "outputs": [
    {
     "name": "stdout",
     "output_type": "stream",
     "text": [
      "Type your number here \tqwerty\n",
      "Couldn't recognize your input!\n",
      "Type your number here \t3.14\n",
      "Your input was:  3.14\n"
     ]
    }
   ],
   "source": [
    "while True:\n",
    "    try:\n",
    "        input_as_float = float(input('Type your number here \\t'))\n",
    "        print('Your input was: ', input_as_float)\n",
    "        break\n",
    "    except ValueError:\n",
    "        print('Couldn\\'t recognize your input!')"
   ]
  },
  {
   "cell_type": "markdown",
   "id": "dda6a9b3",
   "metadata": {},
   "source": [
    "### Strings\n",
    "#### Substrings"
   ]
  },
  {
   "cell_type": "code",
   "execution_count": 9,
   "id": "042a75e0",
   "metadata": {},
   "outputs": [
    {
     "name": "stdout",
     "output_type": "stream",
     "text": [
      "567\n",
      "456789\n",
      "456789\n"
     ]
    }
   ],
   "source": [
    "s = '0123456789'\n",
    "print(s[5:8]) # characters 5..7\n",
    "print(s[4:]) # characters starting with 4th\n",
    "print(s[-6:]) # last 6 characters"
   ]
  },
  {
   "cell_type": "markdown",
   "id": "14d46ad3",
   "metadata": {},
   "source": [
    "#### Partitioning"
   ]
  },
  {
   "cell_type": "code",
   "execution_count": 10,
   "id": "9b61dda2",
   "metadata": {},
   "outputs": [
    {
     "name": "stdout",
     "output_type": "stream",
     "text": [
      "('1 ', '- ', '2 - 3 - 4 - 5')\n"
     ]
    }
   ],
   "source": [
    "print ('1 - 2 - 3 - 4 - 5'.partition('- '))"
   ]
  },
  {
   "cell_type": "markdown",
   "id": "22e485e2",
   "metadata": {},
   "source": [
    "#### Formatting\n",
    "Similar to formatting in Java's `System.out.printf()` and `String.format()` functions:\n",
    "- `%s -> string`\n",
    "- `%d -> integer (dec)`\n",
    "- `%o -> oct`\n",
    "- `%x -> hex`\n",
    "- `%f -> float`\n",
    "- `%e -> exponential`"
   ]
  },
  {
   "cell_type": "code",
   "execution_count": 11,
   "id": "f84a7092",
   "metadata": {},
   "outputs": [
    {
     "name": "stdout",
     "output_type": "stream",
     "text": [
      "This number in dec: 145, hex: 91, oct: 221, float: 145.000000, exponential: 1.450000e+02\n"
     ]
    }
   ],
   "source": [
    "word = 'This number in'\n",
    "n = 145\n",
    "print('%s dec: %d, hex: %x, oct: %o, float: %f, exponential: %e' % (word, n, n, n, n, n))"
   ]
  },
  {
   "cell_type": "code",
   "execution_count": null,
   "id": "a5992e23",
   "metadata": {},
   "outputs": [],
   "source": []
  }
 ],
 "metadata": {
  "kernelspec": {
   "display_name": "Python 3",
   "language": "python",
   "name": "python3"
  },
  "language_info": {
   "codemirror_mode": {
    "name": "ipython",
    "version": 3
   },
   "file_extension": ".py",
   "mimetype": "text/x-python",
   "name": "python",
   "nbconvert_exporter": "python",
   "pygments_lexer": "ipython3",
   "version": "3.9.5"
  }
 },
 "nbformat": 4,
 "nbformat_minor": 5
}
