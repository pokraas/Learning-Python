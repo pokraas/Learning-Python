{
 "cells": [
  {
   "cell_type": "markdown",
   "id": "a5eb73ea",
   "metadata": {},
   "source": [
    "# Functions\n",
    "This notebook is based on [this](https://gitlab.erc.monash.edu.au/andrease/Python4Maths/-/tree/master/Intro-to-Python) and [this](https://nbviewer.jupyter.org/github/phelps-sg/python-bigdata/blob/master/src/main/ipynb/intro-python.ipynb)\n",
    "Python tutorials."
   ]
  },
  {
   "cell_type": "code",
   "execution_count": 1,
   "id": "f794be5a",
   "metadata": {},
   "outputs": [
    {
     "name": "stdout",
     "output_type": "stream",
     "text": [
      "9\n",
      "Help on function power in module __main__:\n",
      "\n",
      "power(x, y)\n",
      "    This function raises x to the power of y.\n",
      "\n"
     ]
    }
   ],
   "source": [
    "def power(x, y):\n",
    "    '''This function raises x to the power of y.'''\n",
    "    return x ** y\n",
    "\n",
    "print (power(3,2))\n",
    "help(power) # displays the documentation of the function"
   ]
  },
  {
   "cell_type": "markdown",
   "id": "fc68a1b7",
   "metadata": {},
   "source": [
    "### Return multiple values\n",
    "A function can return many values, which are automatically collected into a tuple."
   ]
  },
  {
   "cell_type": "code",
   "execution_count": 2,
   "id": "f8918bf8",
   "metadata": {},
   "outputs": [
    {
     "name": "stdout",
     "output_type": "stream",
     "text": [
      "(4, 1)\n",
      "4 1\n"
     ]
    }
   ],
   "source": [
    "def max_min(list):\n",
    "    '''Returns the maximal and minimal elements of the list.'''\n",
    "    return max(list), min(list)\n",
    "\n",
    "print(max_min([1,2,3,4])) # prints a tuple\n",
    "\n",
    "x,y = max_min([1,2,3,4]) # assign the result of the function to exactly 2 variables (otherwise - ValueError)\n",
    "print(x,y)"
   ]
  },
  {
   "cell_type": "markdown",
   "id": "82f41049",
   "metadata": {},
   "source": [
    "### Arbitrary number of arguments\n",
    "A function can accept an arbitrary number of arguments, like `varargs` in Java. These will be automatically collected into a List."
   ]
  },
  {
   "cell_type": "code",
   "execution_count": 3,
   "id": "0dc16212",
   "metadata": {},
   "outputs": [
    {
     "name": "stdout",
     "output_type": "stream",
     "text": [
      "(0, 10, 20, 30)\n"
     ]
    }
   ],
   "source": [
    "def multiply_all(n, *args):\n",
    "    '''Multiplies each of args by n.'''\n",
    "    return tuple([a * n for a in args])\n",
    "\n",
    "print (multiply_all(10,0,1,2,3))"
   ]
  },
  {
   "cell_type": "markdown",
   "id": "3e799bdd",
   "metadata": {},
   "source": [
    "### Default AKA implicit arguments\n",
    "A default value can be specified for an argument of a function."
   ]
  },
  {
   "cell_type": "code",
   "execution_count": 4,
   "id": "c343c551",
   "metadata": {},
   "outputs": [
    {
     "name": "stdout",
     "output_type": "stream",
     "text": [
      "[0, 1, 2, 3, 4]\n",
      "[0, 1, 2, 3, 4]\n",
      "[4, 3, 2, 1, 0]\n"
     ]
    }
   ],
   "source": [
    "def sort(list, reverse_order=False):\n",
    "    '''Sorts the list in normal order or in reverse order if the second argument is true.'''\n",
    "    if (reverse_order): # deliberately wrote it longer for demonstration purposes\n",
    "        list.sort(reverse=True)\n",
    "    else: list.sort()\n",
    "    return list\n",
    "    \n",
    "l = list([1,4,0,3,2])\n",
    "print(sort(l))\n",
    "print(sort(l, False))\n",
    "print(sort(l, True))"
   ]
  },
  {
   "cell_type": "markdown",
   "id": "ad4b7c9f",
   "metadata": {},
   "source": [
    "### Lambda functions"
   ]
  },
  {
   "cell_type": "code",
   "execution_count": 5,
   "id": "3eb06a92",
   "metadata": {},
   "outputs": [
    {
     "name": "stdout",
     "output_type": "stream",
     "text": [
      "((x+10)*2)^2 = (2x+20)^2 = 4\n"
     ]
    }
   ],
   "source": [
    "#Note: no def: here\n",
    "squared = lambda x: x * x\n",
    "times2 = lambda x: x * 2\n",
    "plus10 = lambda x: x + 10\n",
    "\n",
    "def f_of_g(f, g, x):\n",
    "    '''calculate f(g(x))'''\n",
    "    return f(g(x))\n",
    "\n",
    "x = -9\n",
    "print('((x+10)*2)^2 = (2x+20)^2 =', squared(f_of_g(times2, plus10, x)))"
   ]
  },
  {
   "cell_type": "markdown",
   "id": "69df9331",
   "metadata": {},
   "source": [
    "Functions (and lambda functions) are objects, thus can be stored in lists, tuples and such:"
   ]
  },
  {
   "cell_type": "code",
   "execution_count": 6,
   "id": "b1722fa5",
   "metadata": {},
   "outputs": [
    {
     "name": "stdout",
     "output_type": "stream",
     "text": [
      "Evaluating each function with x = 5.000000 yields:\n",
      "[25, 10, 15, 5]\n"
     ]
    }
   ],
   "source": [
    "def identity(x):\n",
    "    return x\n",
    "\n",
    "list_of_functions = [squared, times2, plus10, identity]\n",
    "x = 5\n",
    "print(\"Evaluating each function with x = %f yields:\" %x)\n",
    "print([f(x) for f in list_of_functions])"
   ]
  },
  {
   "cell_type": "markdown",
   "id": "abf52fbd",
   "metadata": {},
   "source": [
    "### Applying functions to data structures using comprehension\n",
    "Quite similar to Java's `Stream API`."
   ]
  },
  {
   "cell_type": "code",
   "execution_count": 16,
   "id": "17e0e66d",
   "metadata": {},
   "outputs": [
    {
     "name": "stdout",
     "output_type": "stream",
     "text": [
      "['', 'a', 'ab', 'abc', 'abcd', 'abcde']\n",
      "[0, 1, 4, 9, 16, 25]\n"
     ]
    }
   ],
   "source": [
    "l = [0, 1, 2, 3, 4, 5]\n",
    "substring = lambda x: 'abcdefghijk'[:x]\n",
    "\n",
    "print(list(map(substring, l))) # apply the lambda function to each element\n",
    "print(list(map(lambda x: x * x, l)))"
   ]
  },
  {
   "cell_type": "code",
   "execution_count": 17,
   "id": "b104d9fb",
   "metadata": {},
   "outputs": [
    {
     "name": "stdout",
     "output_type": "stream",
     "text": [
      "[0, 2, 4]\n"
     ]
    }
   ],
   "source": [
    "even = lambda x: x % 2 == 0\n",
    "print(list(filter(even, l))) #leave only the elements that produce True when lambda is applied to them"
   ]
  },
  {
   "cell_type": "code",
   "execution_count": 20,
   "id": "4e15a5c8",
   "metadata": {},
   "outputs": [
    {
     "data": {
      "text/plain": [
       "15"
      ]
     },
     "execution_count": 20,
     "metadata": {},
     "output_type": "execute_result"
    }
   ],
   "source": [
    "from functools import reduce\n",
    "sum = lambda x, y: x + y\n",
    "reduce(sum, [0, 1, 2, 3, 4, 5]) # apply a recursive lambda function to each pair of elements"
   ]
  }
 ],
 "metadata": {
  "kernelspec": {
   "display_name": "Python 3",
   "language": "python",
   "name": "python3"
  },
  "language_info": {
   "codemirror_mode": {
    "name": "ipython",
    "version": 3
   },
   "file_extension": ".py",
   "mimetype": "text/x-python",
   "name": "python",
   "nbconvert_exporter": "python",
   "pygments_lexer": "ipython3",
   "version": "3.9.5"
  }
 },
 "nbformat": 4,
 "nbformat_minor": 5
}
